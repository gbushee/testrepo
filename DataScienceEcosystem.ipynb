{
 "cells": [
  {
   "cell_type": "markdown",
   "id": "4b04ded6-396a-427a-a0d2-5f0e93021ad2",
   "metadata": {},
   "source": [
    "# Data Science Tools and Ecosystem"
   ]
  },
  {
   "cell_type": "markdown",
   "id": "82087fa7-c3cc-402d-a76e-73bf3a420e68",
   "metadata": {},
   "source": [
    "# Data Science Tools and Ecosystem"
   ]
  },
  {
   "cell_type": "code",
   "execution_count": null,
   "id": "3f526ae0-28ed-4187-b5e0-5c8ebba0473b",
   "metadata": {},
   "outputs": [],
   "source": [
    "*In this notebook, Data Science Tools and Ecosystem are summarized.*"
   ]
  },
  {
   "cell_type": "markdown",
   "id": "c804bbb3-51fc-4451-994c-08b9e91f5b66",
   "metadata": {},
   "source": [
    "*In this notebook, Data Science Tools and Ecosystem are summarized.*"
   ]
  },
  {
   "cell_type": "code",
   "execution_count": null,
   "id": "731780cc-e925-45ac-80eb-874aaaae07a1",
   "metadata": {
    "tags": []
   },
   "outputs": [],
   "source": [
    "**Objectives:**\n",
    "* List popular languages for Data Science\n",
    "* List data science libraries\n",
    "* Markdown examples for headers, tables, lists, etc\n",
    "* Code examples\n",
    "* Following directions and taking screenshots :)"
   ]
  },
  {
   "cell_type": "markdown",
   "id": "deccefaa-400f-4527-aa5d-1eb117068828",
   "metadata": {
    "tags": []
   },
   "source": [
    "**Objectives:**\n",
    "* List popular languages for Data Science\n",
    "* List data science libraries\n",
    "* Markdown examples for headers, tables, lists, etc\n",
    "* Code examples\n",
    "* Following directions and taking screenshots :)"
   ]
  },
  {
   "cell_type": "code",
   "execution_count": null,
   "id": "dbf79ce9-8c14-4a7a-a512-8e21b66e5d41",
   "metadata": {},
   "outputs": [],
   "source": [
    "### Some of the popular languages that Data Scientists use are:\n",
    "1. Python\n",
    "2. R\n",
    "3. Julia\n",
    "4. Java"
   ]
  },
  {
   "cell_type": "markdown",
   "id": "9e007501-9bf8-402d-9220-1c89f5cc3d18",
   "metadata": {
    "tags": []
   },
   "source": [
    "### Some of the popular languages that Data Scientists use are:\n",
    "1. Python\n",
    "2. R\n",
    "3. Julia\n",
    "4. Java"
   ]
  },
  {
   "cell_type": "code",
   "execution_count": null,
   "id": "b640dde5-191c-4b53-96de-1ac12aa7938a",
   "metadata": {},
   "outputs": [],
   "source": [
    "### Some of the commonly used libraries used by Data Scientists include:\n",
    "Below this line add an ordered list listing 3 (or more) commonly used libraries in data science.\n",
    "1. TensorFlow (Python)\n",
    "2. Scikit-learn (Python)\n",
    "3. ggplot2 (R)\n",
    "4. DPLYR (R)"
   ]
  },
  {
   "cell_type": "markdown",
   "id": "d8dae1c7-000a-4069-a603-3622c0f453ff",
   "metadata": {},
   "source": [
    "### Some of the commonly used libraries used by Data Scientists include:\n",
    "Below this line add an ordered list listing 3 (or more) commonly used libraries in data science.\n",
    "1. TensorFlow (Python)\n",
    "2. Scikit-learn (Python)\n",
    "3. ggplot2 (R)\n",
    "4. DPLYR (R)"
   ]
  },
  {
   "cell_type": "code",
   "execution_count": null,
   "id": "7f34169f-b88c-4e8c-888c-554ebc1d4c47",
   "metadata": {},
   "outputs": [],
   "source": [
    "|Data Science Tools|\n",
    "|------------------|\n",
    "|Jupyter|\n",
    "|Rstudio|\n",
    "|Anaconda|"
   ]
  },
  {
   "cell_type": "markdown",
   "id": "3ccae6f5-f071-4261-9aa0-f58a6b3efb80",
   "metadata": {},
   "source": [
    "|Data Science Tools|\n",
    "|------------------|\n",
    "|Jupyter|\n",
    "|Rstudio|\n",
    "|Anaconda|"
   ]
  },
  {
   "cell_type": "code",
   "execution_count": null,
   "id": "ca96aace-865c-457a-afd3-e2eb72c70433",
   "metadata": {},
   "outputs": [],
   "source": [
    "### Below are a few examples of evaluating arithmetic expressions in Python"
   ]
  },
  {
   "cell_type": "markdown",
   "id": "d1fae3c5-a95d-451b-80d0-f24920cbe393",
   "metadata": {},
   "source": [
    "### Below are a few examples of evaluating arithmetic expressions in Python"
   ]
  },
  {
   "cell_type": "code",
   "execution_count": 4,
   "id": "a74f7fa7-f65a-4130-8e80-77d63c69dbed",
   "metadata": {
    "tags": []
   },
   "outputs": [
    {
     "data": {
      "text/plain": [
       "17"
      ]
     },
     "execution_count": 4,
     "metadata": {},
     "output_type": "execute_result"
    }
   ],
   "source": [
    "#This a simple arithmetic expression to mutiply then add integers\n",
    "\n",
    "(3*4)+5"
   ]
  },
  {
   "cell_type": "code",
   "execution_count": 6,
   "id": "528d961c-1537-42f8-99b0-85d0ce80f6f3",
   "metadata": {
    "tags": []
   },
   "outputs": [
    {
     "data": {
      "text/plain": [
       "3.3333333333333335"
      ]
     },
     "execution_count": 6,
     "metadata": {},
     "output_type": "execute_result"
    }
   ],
   "source": [
    "# This will convert 200 minutes to hours by diving by 60\n",
    "200 / 60"
   ]
  },
  {
   "cell_type": "code",
   "execution_count": null,
   "id": "cd94a641-fb69-4be3-b549-ca408f268c28",
   "metadata": {},
   "outputs": [],
   "source": [
    "## Author:\n",
    "Glenn Bushee"
   ]
  },
  {
   "cell_type": "markdown",
   "id": "cb4557b2-f830-42cd-9488-fd8d6871775b",
   "metadata": {
    "tags": []
   },
   "source": [
    "## Author:\n",
    "Glenn Bushee"
   ]
  }
 ],
 "metadata": {
  "kernelspec": {
   "display_name": "Python",
   "language": "python",
   "name": "conda-env-python-py"
  },
  "language_info": {
   "codemirror_mode": {
    "name": "ipython",
    "version": 3
   },
   "file_extension": ".py",
   "mimetype": "text/x-python",
   "name": "python",
   "nbconvert_exporter": "python",
   "pygments_lexer": "ipython3",
   "version": "3.7.12"
  }
 },
 "nbformat": 4,
 "nbformat_minor": 5
}
